{
 "cells": [
  {
   "cell_type": "code",
   "execution_count": null,
   "metadata": {},
   "outputs": [
    {
     "ename": "TypeError",
     "evalue": "join() argument must be str, bytes, or os.PathLike object, not 'list'",
     "output_type": "error",
     "traceback": [
      "\u001b[0;31m---------------------------------------------------------------------------\u001b[0m",
      "\u001b[0;31mTypeError\u001b[0m                                 Traceback (most recent call last)",
      "Cell \u001b[0;32mIn [22], line 27\u001b[0m\n\u001b[1;32m     22\u001b[0m data \u001b[38;5;241m=\u001b[39m {variant: {} \u001b[38;5;28;01mfor\u001b[39;00m variant \u001b[38;5;129;01min\u001b[39;00m variants}\n\u001b[1;32m     24\u001b[0m \u001b[38;5;28;01mfor\u001b[39;00m variant \u001b[38;5;129;01min\u001b[39;00m variants:\n\u001b[1;32m     25\u001b[0m     \u001b[38;5;66;03m# Build a glob pattern that matches all n values for this variant.\u001b[39;00m\n\u001b[1;32m     26\u001b[0m     \u001b[38;5;66;03m# The pattern corresponds to: base_dir/experiment/variant/*/new/estimates.json\u001b[39;00m\n\u001b[0;32m---> 27\u001b[0m     pattern \u001b[38;5;241m=\u001b[39m \u001b[43mos\u001b[49m\u001b[38;5;241;43m.\u001b[39;49m\u001b[43mpath\u001b[49m\u001b[38;5;241;43m.\u001b[39;49m\u001b[43mjoin\u001b[49m\u001b[43m(\u001b[49m\u001b[43mbase_dir\u001b[49m\u001b[43m,\u001b[49m\u001b[43m \u001b[49m\u001b[43mexperiment\u001b[49m\u001b[43m,\u001b[49m\u001b[43m \u001b[49m\u001b[43mvariant\u001b[49m\u001b[43m,\u001b[49m\u001b[43m \u001b[49m\u001b[43mns\u001b[49m\u001b[43m,\u001b[49m\u001b[43m \u001b[49m\u001b[38;5;124;43m\"\u001b[39;49m\u001b[38;5;124;43mnew\u001b[39;49m\u001b[38;5;124;43m\"\u001b[39;49m\u001b[43m,\u001b[49m\u001b[43m \u001b[49m\u001b[38;5;124;43m\"\u001b[39;49m\u001b[38;5;124;43mestimates.json\u001b[39;49m\u001b[38;5;124;43m\"\u001b[39;49m\u001b[43m)\u001b[49m\n\u001b[1;32m     28\u001b[0m     \u001b[38;5;28;01mfor\u001b[39;00m estimates_file \u001b[38;5;129;01min\u001b[39;00m glob\u001b[38;5;241m.\u001b[39mglob(pattern):\n\u001b[1;32m     29\u001b[0m         \u001b[38;5;66;03m# Extract the [n] directory name.\u001b[39;00m\n\u001b[1;32m     30\u001b[0m         \u001b[38;5;66;03m# The file path is: .../<experiment>/<variant>/<n>/new/estimates.json\u001b[39;00m\n\u001b[1;32m     31\u001b[0m         \u001b[38;5;66;03m# We go up two directories from estimates_file: first up to \"new\", then to \"<n>\"\u001b[39;00m\n\u001b[1;32m     32\u001b[0m         n_str \u001b[38;5;241m=\u001b[39m os\u001b[38;5;241m.\u001b[39mpath\u001b[38;5;241m.\u001b[39mbasename(os\u001b[38;5;241m.\u001b[39mpath\u001b[38;5;241m.\u001b[39mdirname(os\u001b[38;5;241m.\u001b[39mpath\u001b[38;5;241m.\u001b[39mdirname(estimates_file)))\n",
      "File \u001b[0;32m/usr/local/Caskroom/miniconda/base/lib/python3.9/posixpath.py:90\u001b[0m, in \u001b[0;36mjoin\u001b[0;34m(a, *p)\u001b[0m\n\u001b[1;32m     88\u001b[0m             path \u001b[38;5;241m+\u001b[39m\u001b[38;5;241m=\u001b[39m sep \u001b[38;5;241m+\u001b[39m b\n\u001b[1;32m     89\u001b[0m \u001b[38;5;28;01mexcept\u001b[39;00m (\u001b[38;5;167;01mTypeError\u001b[39;00m, \u001b[38;5;167;01mAttributeError\u001b[39;00m, \u001b[38;5;167;01mBytesWarning\u001b[39;00m):\n\u001b[0;32m---> 90\u001b[0m     \u001b[43mgenericpath\u001b[49m\u001b[38;5;241;43m.\u001b[39;49m\u001b[43m_check_arg_types\u001b[49m\u001b[43m(\u001b[49m\u001b[38;5;124;43m'\u001b[39;49m\u001b[38;5;124;43mjoin\u001b[39;49m\u001b[38;5;124;43m'\u001b[39;49m\u001b[43m,\u001b[49m\u001b[43m \u001b[49m\u001b[43ma\u001b[49m\u001b[43m,\u001b[49m\u001b[43m \u001b[49m\u001b[38;5;241;43m*\u001b[39;49m\u001b[43mp\u001b[49m\u001b[43m)\u001b[49m\n\u001b[1;32m     91\u001b[0m     \u001b[38;5;28;01mraise\u001b[39;00m\n\u001b[1;32m     92\u001b[0m \u001b[38;5;28;01mreturn\u001b[39;00m path\n",
      "File \u001b[0;32m/usr/local/Caskroom/miniconda/base/lib/python3.9/genericpath.py:152\u001b[0m, in \u001b[0;36m_check_arg_types\u001b[0;34m(funcname, *args)\u001b[0m\n\u001b[1;32m    150\u001b[0m         hasbytes \u001b[38;5;241m=\u001b[39m \u001b[38;5;28;01mTrue\u001b[39;00m\n\u001b[1;32m    151\u001b[0m     \u001b[38;5;28;01melse\u001b[39;00m:\n\u001b[0;32m--> 152\u001b[0m         \u001b[38;5;28;01mraise\u001b[39;00m \u001b[38;5;167;01mTypeError\u001b[39;00m(\u001b[38;5;124mf\u001b[39m\u001b[38;5;124m'\u001b[39m\u001b[38;5;132;01m{\u001b[39;00mfuncname\u001b[38;5;132;01m}\u001b[39;00m\u001b[38;5;124m() argument must be str, bytes, or \u001b[39m\u001b[38;5;124m'\u001b[39m\n\u001b[1;32m    153\u001b[0m                         \u001b[38;5;124mf\u001b[39m\u001b[38;5;124m'\u001b[39m\u001b[38;5;124mos.PathLike object, not \u001b[39m\u001b[38;5;132;01m{\u001b[39;00ms\u001b[38;5;241m.\u001b[39m\u001b[38;5;18m__class__\u001b[39m\u001b[38;5;241m.\u001b[39m\u001b[38;5;18m__name__\u001b[39m\u001b[38;5;132;01m!r}\u001b[39;00m\u001b[38;5;124m'\u001b[39m) \u001b[38;5;28;01mfrom\u001b[39;00m \u001b[38;5;28mNone\u001b[39m\n\u001b[1;32m    154\u001b[0m \u001b[38;5;28;01mif\u001b[39;00m hasstr \u001b[38;5;129;01mand\u001b[39;00m hasbytes:\n\u001b[1;32m    155\u001b[0m     \u001b[38;5;28;01mraise\u001b[39;00m \u001b[38;5;167;01mTypeError\u001b[39;00m(\u001b[38;5;124m\"\u001b[39m\u001b[38;5;124mCan\u001b[39m\u001b[38;5;124m'\u001b[39m\u001b[38;5;124mt mix strings and bytes in path components\u001b[39m\u001b[38;5;124m\"\u001b[39m) \u001b[38;5;28;01mfrom\u001b[39;00m \u001b[38;5;28mNone\u001b[39m\n",
      "\u001b[0;31mTypeError\u001b[0m: join() argument must be str, bytes, or os.PathLike object, not 'list'"
     ]
    },
    {
     "data": {
      "image/png": "[encoded data removed]",
      "text/plain": [
       "<Figure size 339x250 with 1 Axes>"
      ]
     },
     "metadata": {},
     "output_type": "display_data"
    }
   ],
   "source": [
    "import os\n",
    "import glob\n",
    "import json\n",
    "import matplotlib.pyplot as plt\n",
    "\n",
    "plt.rcParams.update({\"font.size\": 10, \"font.family\": \"Arial\"})\n",
    "\n",
    "fig = plt.figure(figsize=(3.39, 2.5))\n",
    "ax = fig.add_subplot(111)\n",
    "\n",
    "# Adjust these variables as needed:\n",
    "base_dir = \"target/criterion\"\n",
    "experiment = \"DPrm vs. Prm, 8 threads\"  # Replace with your experiment folder name.\n",
    "variants = [\n",
    "    \"Full Prm Compute\",\n",
    "    \"DPrm Obstacle Insertion\",\n",
    "]  # Replace with the names of your variants.\n",
    "\n",
    "ns = [\"10000\", \"20000\", \"40000\"]\n",
    "# Dictionary to hold data for each variant.\n",
    "# We'll map each variant to a dictionary of { n_value: median_point_estimate }.\n",
    "data = {variant: {} for variant in variants}\n",
    "\n",
    "for variant in variants:\n",
    "    # Build a glob pattern that matches all n values for this variant.\n",
    "    # The pattern corresponds to: base_dir/experiment/variant/*/new/estimates.json\n",
    "    pattern = os.path.join(base_dir, experiment, variant, \"*\", \"new\", \"estimates.json\")\n",
    "    for estimates_file in glob.glob(pattern):\n",
    "        # Extract the [n] directory name.\n",
    "        # The file path is: .../<experiment>/<variant>/<n>/new/estimates.json\n",
    "        # We go up two directories from estimates_file: first up to \"new\", then to \"<n>\"\n",
    "        n_str = os.path.basename(os.path.dirname(os.path.dirname(estimates_file)))\n",
    "        try:\n",
    "            # Convert n to a numeric value (e.g., int or float)\n",
    "            n_value = float(n_str)\n",
    "        except ValueError:\n",
    "            # If the directory name is not a number, skip this file.\n",
    "            print(f\"Skipping non-numeric directory: {n_str}\")\n",
    "            continue\n",
    "        if n_value < 10000:\n",
    "            continue\n",
    "        # Load the estimates.json file.\n",
    "        with open(estimates_file, \"r\") as f:\n",
    "            estimates = json.load(f)\n",
    "\n",
    "        # Extract the mean point estimate.\n",
    "        # (You can also extract other statistics, e.g., the confidence interval,\n",
    "        #  if you’d like to include error bars.)\n",
    "        mean_point = estimates[\"mean\"][\"point_estimate\"]\n",
    "\n",
    "        # Save the data point.\n",
    "        data[variant][n_value] = mean_point\n",
    "\n",
    "fig, ax = plt.subplots(figsize=(3.4, 2.5))\n",
    "\n",
    "for variant, values in data.items():\n",
    "    # Sort the data by n (x-axis).\n",
    "    ns = sorted(values.keys())\n",
    "    means = [values[n] for n in ns]\n",
    "    means_ms = [value / 1e6 for value in means]\n",
    "    ax.plot(ns, means_ms, marker=\"o\", label=variant)\n",
    "\n",
    "ax.set_xlabel(\"Sampled vertices\")\n",
    "ax.set_ylabel(\"Mean Execution Time (ms)\")\n",
    "ax.set_title(\"\")\n",
    "ax.set_xscale(\"log\")\n",
    "ax.set_yscale(\"log\")\n",
    "ax.set_xticks([10000, 20000, 40000, 80000])\n",
    "ax.set_xticklabels([\"10k\", \"20k\", \"40k\", \"80k\"])\n",
    "ax.minorticks_off()\n",
    "\n",
    "ax.legend()\n",
    "ax.grid(True)"
   ]
  }
 ],
 "metadata": {
  "kernelspec": {
   "display_name": "base",
   "language": "python",
   "name": "python3"
  },
  "language_info": {
   "codemirror_mode": {
    "name": "ipython",
    "version": 3
   },
   "file_extension": ".py",
   "mimetype": "text/x-python",
   "name": "python",
   "nbconvert_exporter": "python",
   "pygments_lexer": "ipython3",
   "version": "3.9.12"
  }
 },
 "nbformat": 4,
 "nbformat_minor": 2
}
